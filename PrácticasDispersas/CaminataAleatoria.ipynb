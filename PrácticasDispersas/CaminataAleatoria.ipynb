{
 "cells": [
  {
   "cell_type": "markdown",
   "metadata": {},
   "source": [
    "# Caminata aleatoria\n",
    "\n",
    "## Introducción\n",
    "En el presente programa encontraremos instrucciones para simular cómo es el comportamiento de un ente que tiene las mismas posibilidades de moverse hacia la derecha o hacia la izquierda. A partir de ésto intentaremos inducir matemáticamente cuáles son las razones de los hechos que se den a través de la simulación\n",
    "\n",
    "## Preliminares\n",
    "Si alguno de los estudiantes va a trabajar en un computador de la sala que no tenga Anaconda, sugiero ejecutar los siguientes comandos antes que cualquier cosa (desde una terminal)\n",
    "\n",
    "```bash\n",
    "sudo apt-get update\n",
    "sudo apt-get install ipython\n",
    "sudo apt-get install python-pip\n",
    "pip install numpy\n",
    "pip install matplotlib\n",
    "```\n",
    "\n",
    "Recuerde que la contraseña de los computadores es \"1234\" (sin comillas). El computador debe estar conectado a internet para ejecutar a satisfacción las instrucciones. En caso de que alguno de los dos últimos comandos genere un error, use los siguientes dos comandos:\n",
    "\n",
    "```bash\n",
    "sudo apt-get install python-numpy\n",
    "sudo apt-get install python-matpotlib\n",
    "```\n",
    "\n",
    "Todos los que no tengan Anaconda trabajarán en ipython, y los que la tengan, trabajarán en jupyter notebook. Para guardar el progreso en ipython se usa la instrucción\n",
    "\n",
    "```python\n",
    "%save 1-70\n",
    "```\n",
    "\n",
    "si se desea guardar en un archivo lo que se hizo desde la línea 1 hasta la línea 70. Para ingresar a Ipython, simplemente se ejecuta desde la terminal\n",
    "\n",
    "```bash\n",
    "ipython\n",
    "```\n",
    "y ya se está preparado para empezar."
   ]
  },
  {
   "cell_type": "markdown",
   "metadata": {},
   "source": [
    "## Desarrollo\n",
    "### Importar Librerías"
   ]
  },
  {
   "cell_type": "code",
   "execution_count": null,
   "metadata": {
    "collapsed": true
   },
   "outputs": [],
   "source": [
    "import matplotlib.pyplot as plt\n",
    "import numpy as np"
   ]
  },
  {
   "cell_type": "markdown",
   "metadata": {},
   "source": [
    "Usamos matplotlib para graficar algunas cosas, y numpy en sustitución del paquete random, que no es tan sólido como numpy. A continuación creamos una función que recibe como argumento el número de pasos aleatorios que dará nuestro objeto, y retorna la posición final. Hay que ser muy rigurosos con la sintaxis."
   ]
  },
  {
   "cell_type": "code",
   "execution_count": null,
   "metadata": {
    "collapsed": true
   },
   "outputs": [],
   "source": [
    "def randomWalk(steps):\n",
    "    count=0 #La caminata empieza en x=0\n",
    "    for x in range(steps):\n",
    "        count+=np.random.choice(np.array([-1,1]))\n",
    "    return count"
   ]
  },
  {
   "cell_type": "markdown",
   "metadata": {},
   "source": [
    "La función `np.random.choice(l)` recibe como argumento un arreglo `l` y selecciona con una probabilidad uniforme alguno de los elementos de dicho arreglo. Podemos calcular la media de 400 caminatas aleatorias, cada una con 400 pasos de la siguiente manera:"
   ]
  },
  {
   "cell_type": "code",
   "execution_count": null,
   "metadata": {
    "collapsed": false
   },
   "outputs": [],
   "source": [
    "N=400 #Cantidad de caminatas\n",
    "T=400 #Pasos por caminata\n",
    "\n",
    "mean=0 #Variable contadora para acumular los resultados\n",
    "for x in range(N):\n",
    "    mean+=randomWalk(T)\n",
    "\n",
    "print(1.*mean/N) #Sacamos el promedio por caminata"
   ]
  },
  {
   "cell_type": "markdown",
   "metadata": {},
   "source": [
    "Generalmente el valor obtenido es extremadamente cercano a cero, ¿Por qué? Apreciemos este fenómeno gráficamente. A continuación graficaré los resultados de 400 caminatas aleatorias."
   ]
  },
  {
   "cell_type": "code",
   "execution_count": null,
   "metadata": {
    "collapsed": true
   },
   "outputs": [],
   "source": [
    "f=plt.figure() #Creamos un entorno\n",
    "l=[] #Y una lista que recopile la información\n",
    "\n",
    "for x in range(N):\n",
    "    l.append(randomWalk(T)) #Metemos los valores a la lista\n",
    "    \n",
    "#Y los graficamos\n",
    "plt.plot(range(N), l, marker=\"o\", markersize=.5)\n",
    "plt.xlabel(\"Number of try\")\n",
    "plt.ylabel(\"Final position\")\n",
    "\n",
    "plt.show()"
   ]
  },
  {
   "cell_type": "markdown",
   "metadata": {},
   "source": [
    "Vemos que gráficamente oscila increíblemente, pero si ahora graficamos el número de caminatas aleatorias que se harán contra el resultado promedio de estas caminatas aleatorias, observaremos un comportamiento distinto. Si el programa se demora"
   ]
  },
  {
   "cell_type": "code",
   "execution_count": null,
   "metadata": {
    "collapsed": true
   },
   "outputs": [],
   "source": [
    "f=plt.figure()\n",
    "l=[] #Captura los datos\n",
    "\n",
    "#El número de caminatas aleatorias oscilará entre\n",
    "# 1 y 400. Los pasos por caminata seguirán siendo T.\n",
    "P=400 #Modifíquese a un valor natural menor en caso de mucha demora\n",
    "\n",
    "for x in range(1,P):\n",
    "    count=0\n",
    "    for y in range(x):\n",
    "        count+=randomWalk(T)\n",
    "    l.append(1.*count/x)\n",
    "\n",
    "#Y los graficamos\n",
    "plt.plot(range(P-1), l, marker=\"o\", markersize=.5)\n",
    "plt.xlabel(\"Number of Random Walks\")\n",
    "plt.ylabel(\"Final position (mean)\")\n",
    "\n",
    "plt.show()    "
   ]
  },
  {
   "cell_type": "markdown",
   "metadata": {},
   "source": [
    "¿Qué explicación razonable le encuentra a este comportamiento? Por último, veamos una animación del funcionamiento de la función randomWalk"
   ]
  },
  {
   "cell_type": "code",
   "execution_count": null,
   "metadata": {
    "collapsed": false
   },
   "outputs": [],
   "source": [
    "fig, ax = plt.subplots()\n",
    "\n",
    "plt.grid()\n",
    "y=[0] #Empieza la caminata en cero\n",
    "\n",
    "for x in range(T):\n",
    "    y.append(y[x]+np.random.choice(np.array([-1,1])))\n",
    "\n",
    "\n",
    "for t in range(T+1):\n",
    "    if t == 0:\n",
    "        points, = ax.plot(y[t], 0, marker='o', linestyle='None')\n",
    "        ax.set_xlim(min(y)-5, max(y)+5) \n",
    "        ax.set_ylim(-1, 1) \n",
    "        ax.set_xticks(np.arange(min(y)-5, max(y)+5))\n",
    "    else:        \n",
    "        points.set_data(y[t], 0)\n",
    "    \n",
    "    plt.pause(0.5)"
   ]
  },
  {
   "cell_type": "code",
   "execution_count": null,
   "metadata": {
    "collapsed": true
   },
   "outputs": [],
   "source": []
  }
 ],
 "metadata": {
  "kernelspec": {
   "display_name": "Python [Root]",
   "language": "python",
   "name": "Python [Root]"
  },
  "language_info": {
   "codemirror_mode": {
    "name": "ipython",
    "version": 3
   },
   "file_extension": ".py",
   "mimetype": "text/x-python",
   "name": "python",
   "nbconvert_exporter": "python",
   "pygments_lexer": "ipython3",
   "version": "3.5.2"
  }
 },
 "nbformat": 4,
 "nbformat_minor": 0
}
